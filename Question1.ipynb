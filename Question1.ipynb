{
  "nbformat": 4,
  "nbformat_minor": 0,
  "metadata": {
    "colab": {
      "name": "Question1.ipynb",
      "version": "0.3.2",
      "provenance": [],
      "include_colab_link": true
    },
    "kernelspec": {
      "name": "python3",
      "display_name": "Python 3"
    }
  },
  "cells": [
    {
      "cell_type": "markdown",
      "metadata": {
        "id": "view-in-github",
        "colab_type": "text"
      },
      "source": [
        "<a href=\"https://colab.research.google.com/github/Rapid130RS/Programming/blob/master/Question1.ipynb\" target=\"_parent\"><img src=\"https://colab.research.google.com/assets/colab-badge.svg\" alt=\"Open In Colab\"/></a>"
      ]
    },
    {
      "metadata": {
        "id": "BJp6npclwVva",
        "colab_type": "code",
        "colab": {
          "base_uri": "https://localhost:8080/",
          "height": 68
        },
        "outputId": "0e9530fd-fc56-4f75-f547-01c3804cf882"
      },
      "cell_type": "code",
      "source": [
        "response = int(input (\"Please enter a positive integer: \"))\n",
        "average = 0\n",
        "sum = 0\n",
        "if response > 0:\n",
        "    #print(\"This is a positive number\")\n",
        "    for num in range (0, response+1,1):\n",
        "      sum = sum+num\n",
        "    print (sum)\n",
        "else:\n",
        "    print(\"Negative number\")\n"
      ],
      "execution_count": 3,
      "outputs": [
        {
          "output_type": "stream",
          "text": [
            "Please enter a positive integer: 20\n",
            "This is a positive number\n",
            "210\n"
          ],
          "name": "stdout"
        }
      ]
    }
  ]
}